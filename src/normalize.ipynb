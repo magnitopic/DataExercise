{
 "cells": [
  {
   "cell_type": "markdown",
   "id": "849ec24a-8977-4594-8636-1aaf5af78652",
   "metadata": {},
   "source": [
    "# Normalize the data\n",
    "\n",
    "- dates\n",
    "- split products\n",
    "- split ammounts\n",
    "- split prices\n",
    "- prices with coma"
   ]
  },
  {
   "cell_type": "code",
   "execution_count": 1,
   "id": "ee3323df-916b-4582-b07a-1a81a2b98c71",
   "metadata": {},
   "outputs": [],
   "source": [
    "import pandas as pd\n",
    "import numpy as np\n",
    "df = pd.read_csv(\"../data/inital_dataset.csv\")"
   ]
  },
  {
   "cell_type": "code",
   "execution_count": 14,
   "id": "aecc3684-ace8-43bd-a83c-31f4f8f0d2e3",
   "metadata": {},
   "outputs": [],
   "source": [
    "# Dates\n",
    "df['Fecha'] = pd.to_datetime(df['Fecha'], format='mixed', dayfirst=True)"
   ]
  },
  {
   "cell_type": "code",
   "execution_count": null,
   "id": "a8ba5870-63c7-4038-a58d-5306670c9264",
   "metadata": {},
   "outputs": [],
   "source": []
  }
 ],
 "metadata": {
  "kernelspec": {
   "display_name": "Python 3 (ipykernel)",
   "language": "python",
   "name": "python3"
  },
  "language_info": {
   "codemirror_mode": {
    "name": "ipython",
    "version": 3
   },
   "file_extension": ".py",
   "mimetype": "text/x-python",
   "name": "python",
   "nbconvert_exporter": "python",
   "pygments_lexer": "ipython3",
   "version": "3.10.12"
  }
 },
 "nbformat": 4,
 "nbformat_minor": 5
}
