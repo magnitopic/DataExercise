{
 "cells": [
  {
   "cell_type": "markdown",
   "id": "849ec24a-8977-4594-8636-1aaf5af78652",
   "metadata": {},
   "source": [
    "# Normalize the data\n",
    "\n",
    "- dates\n",
    "- split products\n",
    "- split ammounts\n",
    "- split prices\n",
    "- prices with coma"
   ]
  },
  {
   "cell_type": "code",
   "execution_count": 1,
   "id": "ee3323df-916b-4582-b07a-1a81a2b98c71",
   "metadata": {},
   "outputs": [],
   "source": [
    "import pandas as pd\n",
    "import numpy as np\n",
    "df = pd.read_csv(\"../data/inital_dataset.csv\")"
   ]
  },
  {
   "cell_type": "code",
   "execution_count": 14,
   "id": "aecc3684-ace8-43bd-a83c-31f4f8f0d2e3",
   "metadata": {},
   "outputs": [],
   "source": [
    "# Dates\n",
    "df['Fecha'] = pd.to_datetime(df['Fecha'], format='mixed', dayfirst=True)"
   ]
  },
  {
   "cell_type": "markdown",
   "id": "1c83b051-186f-47c7-b858-498a359d034f",
   "metadata": {},
   "source": [
    "# Product table"
   ]
  },
  {
   "cell_type": "code",
   "execution_count": 64,
   "id": "80d8b795-640e-48cb-9322-dc9e5f9aaaf7",
   "metadata": {},
   "outputs": [
    {
     "data": {
      "text/html": [
       "<div>\n",
       "<style scoped>\n",
       "    .dataframe tbody tr th:only-of-type {\n",
       "        vertical-align: middle;\n",
       "    }\n",
       "\n",
       "    .dataframe tbody tr th {\n",
       "        vertical-align: top;\n",
       "    }\n",
       "\n",
       "    .dataframe thead th {\n",
       "        text-align: right;\n",
       "    }\n",
       "</style>\n",
       "<table border=\"1\" class=\"dataframe\">\n",
       "  <thead>\n",
       "    <tr style=\"text-align: right;\">\n",
       "      <th></th>\n",
       "      <th>id</th>\n",
       "      <th>Name</th>\n",
       "    </tr>\n",
       "  </thead>\n",
       "  <tbody>\n",
       "    <tr>\n",
       "      <th>0</th>\n",
       "      <td>0</td>\n",
       "      <td>Batería 12V</td>\n",
       "    </tr>\n",
       "    <tr>\n",
       "      <th>1</th>\n",
       "      <td>1</td>\n",
       "      <td>Cable 2m</td>\n",
       "    </tr>\n",
       "    <tr>\n",
       "      <th>2</th>\n",
       "      <td>2</td>\n",
       "      <td>Aceite lubricante</td>\n",
       "    </tr>\n",
       "    <tr>\n",
       "      <th>3</th>\n",
       "      <td>3</td>\n",
       "      <td>Filtro aire</td>\n",
       "    </tr>\n",
       "    <tr>\n",
       "      <th>4</th>\n",
       "      <td>4</td>\n",
       "      <td>Compresor portátil</td>\n",
       "    </tr>\n",
       "    <tr>\n",
       "      <th>5</th>\n",
       "      <td>5</td>\n",
       "      <td>Taladro 500W</td>\n",
       "    </tr>\n",
       "    <tr>\n",
       "      <th>6</th>\n",
       "      <td>6</td>\n",
       "      <td>Llave inglesa</td>\n",
       "    </tr>\n",
       "    <tr>\n",
       "      <th>7</th>\n",
       "      <td>7</td>\n",
       "      <td>Kit reparación</td>\n",
       "    </tr>\n",
       "  </tbody>\n",
       "</table>\n",
       "</div>"
      ],
      "text/plain": [
       "   id                Name\n",
       "0   0         Batería 12V\n",
       "1   1            Cable 2m\n",
       "2   2   Aceite lubricante\n",
       "3   3         Filtro aire\n",
       "4   4  Compresor portátil\n",
       "5   5        Taladro 500W\n",
       "6   6       Llave inglesa\n",
       "7   7      Kit reparación"
      ]
     },
     "execution_count": 64,
     "metadata": {},
     "output_type": "execute_result"
    }
   ],
   "source": [
    "# Product table\n",
    "productList = pd.DataFrame(df['Productos'].str.split(';').explode().str.strip().unique())\n",
    "productList = productList.reset_index(drop=False)\n",
    "productList.columns = ['id', 'Name']\n",
    "productList.head(8)"
   ]
  },
  {
   "cell_type": "code",
   "execution_count": 65,
   "id": "24a4f7ea-0f25-4587-bcfa-4676e73777fc",
   "metadata": {},
   "outputs": [],
   "source": [
    "productList.to_csv('../exports/product.csv', index=False)"
   ]
  },
  {
   "cell_type": "code",
   "execution_count": 59,
   "id": "a58d5238-c2ed-4ba1-bd70-34e5a43538d0",
   "metadata": {},
   "outputs": [
    {
     "data": {
      "text/html": [
       "<div>\n",
       "<style scoped>\n",
       "    .dataframe tbody tr th:only-of-type {\n",
       "        vertical-align: middle;\n",
       "    }\n",
       "\n",
       "    .dataframe tbody tr th {\n",
       "        vertical-align: top;\n",
       "    }\n",
       "\n",
       "    .dataframe thead th {\n",
       "        text-align: right;\n",
       "    }\n",
       "</style>\n",
       "<table border=\"1\" class=\"dataframe\">\n",
       "  <thead>\n",
       "    <tr style=\"text-align: right;\">\n",
       "      <th></th>\n",
       "      <th>ProductName</th>\n",
       "      <th>Quantity</th>\n",
       "      <th>TotalPrice</th>\n",
       "    </tr>\n",
       "  </thead>\n",
       "  <tbody>\n",
       "    <tr>\n",
       "      <th>0</th>\n",
       "      <td>Batería 12V</td>\n",
       "      <td>8</td>\n",
       "      <td>61.21</td>\n",
       "    </tr>\n",
       "    <tr>\n",
       "      <th>1</th>\n",
       "      <td>Cable 2m</td>\n",
       "      <td>4</td>\n",
       "      <td>32.22</td>\n",
       "    </tr>\n",
       "    <tr>\n",
       "      <th>1</th>\n",
       "      <td>Aceite lubricante</td>\n",
       "      <td>8</td>\n",
       "      <td>4.21</td>\n",
       "    </tr>\n",
       "    <tr>\n",
       "      <th>1</th>\n",
       "      <td>Filtro aire</td>\n",
       "      <td>8</td>\n",
       "      <td>62.28</td>\n",
       "    </tr>\n",
       "    <tr>\n",
       "      <th>2</th>\n",
       "      <td>Aceite lubricante</td>\n",
       "      <td>4</td>\n",
       "      <td>36.32</td>\n",
       "    </tr>\n",
       "    <tr>\n",
       "      <th>2</th>\n",
       "      <td>Cable 2m</td>\n",
       "      <td>5</td>\n",
       "      <td>3.98</td>\n",
       "    </tr>\n",
       "    <tr>\n",
       "      <th>3</th>\n",
       "      <td>Compresor portátil</td>\n",
       "      <td>9</td>\n",
       "      <td>3.37</td>\n",
       "    </tr>\n",
       "    <tr>\n",
       "      <th>3</th>\n",
       "      <td>Aceite lubricante</td>\n",
       "      <td>8</td>\n",
       "      <td>54.08</td>\n",
       "    </tr>\n",
       "  </tbody>\n",
       "</table>\n",
       "</div>"
      ],
      "text/plain": [
       "          ProductName  Quantity  TotalPrice\n",
       "0         Batería 12V         8       61.21\n",
       "1            Cable 2m         4       32.22\n",
       "1   Aceite lubricante         8        4.21\n",
       "1         Filtro aire         8       62.28\n",
       "2   Aceite lubricante         4       36.32\n",
       "2            Cable 2m         5        3.98\n",
       "3  Compresor portátil         9        3.37\n",
       "3   Aceite lubricante         8       54.08"
      ]
     },
     "execution_count": 59,
     "metadata": {},
     "output_type": "execute_result"
    }
   ],
   "source": [
    "productos = pd.DataFrame({\n",
    "    'ProductName': df['Productos'].str.split(';').explode().str.strip(),\n",
    "    'Quantity': df['Cantidades'].str.split(';').explode().str.strip(),\n",
    "    'TotalPrice': df['Precios'].str.split(';').explode().str.strip()\n",
    "})\n",
    "productos['Quantity'] = pd.to_numeric(productos['Quantity'])\n",
    "productos['TotalPrice'] = pd.to_numeric(productos['TotalPrice'].str.replace(',', '.'))\n",
    "productos.head(8)"
   ]
  },
  {
   "cell_type": "code",
   "execution_count": 34,
   "id": "0b4085d7-7575-47e7-bdb5-0e8621085250",
   "metadata": {},
   "outputs": [
    {
     "data": {
      "text/plain": [
       "0                           [61.21]\n",
       "1              [32.22, 4,21, 62,28]\n",
       "2                     [36,32, 3.98]\n",
       "3              [3.37, 54.08, 59,21]\n",
       "4      [31.24, 61.21, 52,64, 61.41]\n",
       "                   ...             \n",
       "195       [62,87, 41.25, 6.1, 5,71]\n",
       "196            [11.82, 62.2, 57.73]\n",
       "197    [22.71, 50.99, 53.28, 50.58]\n",
       "198                  [59.07, 67.56]\n",
       "199                  [61,79, 76.58]\n",
       "Name: Precios, Length: 200, dtype: object"
      ]
     },
     "execution_count": 34,
     "metadata": {},
     "output_type": "execute_result"
    }
   ],
   "source": [
    "df['Precios'].str.split(';')"
   ]
  }
 ],
 "metadata": {
  "kernelspec": {
   "display_name": "Python 3 (ipykernel)",
   "language": "python",
   "name": "python3"
  },
  "language_info": {
   "codemirror_mode": {
    "name": "ipython",
    "version": 3
   },
   "file_extension": ".py",
   "mimetype": "text/x-python",
   "name": "python",
   "nbconvert_exporter": "python",
   "pygments_lexer": "ipython3",
   "version": "3.10.12"
  }
 },
 "nbformat": 4,
 "nbformat_minor": 5
}
