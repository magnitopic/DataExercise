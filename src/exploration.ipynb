{
 "cells": [
  {
   "cell_type": "code",
   "execution_count": 18,
   "metadata": {
    "id": "VYe7NsH5U9mq"
   },
   "outputs": [],
   "source": [
    "import pandas as pd\n",
    "import numpy as np\n",
    "df = pd.read_csv(\"../data/inital_dataset.csv\")"
   ]
  },
  {
   "cell_type": "code",
   "execution_count": 13,
   "metadata": {
    "colab": {
     "base_uri": "https://localhost:8080/",
     "height": 439
    },
    "id": "5Op1bz4GVcTE",
    "outputId": "7ecac41e-5c3b-41ec-a4f3-07cef9ebd253"
   },
   "outputs": [
    {
     "data": {
      "text/html": [
       "<div>\n",
       "<style scoped>\n",
       "    .dataframe tbody tr th:only-of-type {\n",
       "        vertical-align: middle;\n",
       "    }\n",
       "\n",
       "    .dataframe tbody tr th {\n",
       "        vertical-align: top;\n",
       "    }\n",
       "\n",
       "    .dataframe thead th {\n",
       "        text-align: right;\n",
       "    }\n",
       "</style>\n",
       "<table border=\"1\" class=\"dataframe\">\n",
       "  <thead>\n",
       "    <tr style=\"text-align: right;\">\n",
       "      <th></th>\n",
       "      <th>TipoRegistro</th>\n",
       "      <th>Fecha</th>\n",
       "      <th>Empleado</th>\n",
       "      <th>Cliente_Proveedor</th>\n",
       "      <th>NIF</th>\n",
       "      <th>Direccion</th>\n",
       "      <th>Productos</th>\n",
       "      <th>Cantidades</th>\n",
       "      <th>Precios</th>\n",
       "      <th>Total</th>\n",
       "      <th>MedioPago</th>\n",
       "      <th>Documento</th>\n",
       "      <th>Observaciones</th>\n",
       "    </tr>\n",
       "  </thead>\n",
       "  <tbody>\n",
       "    <tr>\n",
       "      <th>0</th>\n",
       "      <td>COMPRA</td>\n",
       "      <td>17/08/2025</td>\n",
       "      <td>Javier Torres</td>\n",
       "      <td>Materiales Centro</td>\n",
       "      <td>B33445522</td>\n",
       "      <td>C/ Serrano 14, Madrid</td>\n",
       "      <td>Batería 12V</td>\n",
       "      <td>8</td>\n",
       "      <td>61.21</td>\n",
       "      <td>489.68</td>\n",
       "      <td>efectivo</td>\n",
       "      <td>Etiqueta #C-801</td>\n",
       "      <td>Falta confirmación</td>\n",
       "    </tr>\n",
       "    <tr>\n",
       "      <th>1</th>\n",
       "      <td>VENTA</td>\n",
       "      <td>05-May-2025</td>\n",
       "      <td>Ana García</td>\n",
       "      <td>MotoRepara</td>\n",
       "      <td>87654321N</td>\n",
       "      <td>C/ Montaña 4, Granada</td>\n",
       "      <td>Cable 2m;Aceite lubricante;Filtro aire</td>\n",
       "      <td>4;8;8</td>\n",
       "      <td>32.22;4,21;62,28</td>\n",
       "      <td>660.80</td>\n",
       "      <td>bizum</td>\n",
       "      <td>Garantía #V-516</td>\n",
       "      <td>Pendiente pago</td>\n",
       "    </tr>\n",
       "    <tr>\n",
       "      <th>2</th>\n",
       "      <td>COMPRA</td>\n",
       "      <td>19/03/2025</td>\n",
       "      <td>Pedro López</td>\n",
       "      <td>Distribuciones Almería</td>\n",
       "      <td>S55667788</td>\n",
       "      <td>Av. Mediterráneo 23, Almería</td>\n",
       "      <td>Aceite lubricante;Cable 2m</td>\n",
       "      <td>4;5</td>\n",
       "      <td>36,32;3.98</td>\n",
       "      <td>165.18</td>\n",
       "      <td>tarjeta</td>\n",
       "      <td>Albarán #C-555</td>\n",
       "      <td>Falta confirmación</td>\n",
       "    </tr>\n",
       "    <tr>\n",
       "      <th>3</th>\n",
       "      <td>VENTA</td>\n",
       "      <td>2025-05-16</td>\n",
       "      <td>Ana García</td>\n",
       "      <td>AutoQuick</td>\n",
       "      <td>88990011T</td>\n",
       "      <td>C/ Toledo 5, Toledo</td>\n",
       "      <td>Compresor portátil;Aceite lubricante;Taladro 500W</td>\n",
       "      <td>9;8;7</td>\n",
       "      <td>3.37;54.08;59,21</td>\n",
       "      <td>877.44</td>\n",
       "      <td>efectivo</td>\n",
       "      <td>Garantía #V-888</td>\n",
       "      <td>Falta confirmación</td>\n",
       "    </tr>\n",
       "    <tr>\n",
       "      <th>4</th>\n",
       "      <td>COMPRA</td>\n",
       "      <td>06/01/2025</td>\n",
       "      <td>Pedro López</td>\n",
       "      <td>Suministros Lopez</td>\n",
       "      <td>B23456789</td>\n",
       "      <td>C/ Mayor 12, Madrid</td>\n",
       "      <td>Llave inglesa;Compresor portátil;Batería 12V;T...</td>\n",
       "      <td>10;9;7;9</td>\n",
       "      <td>31.24;61.21;52,64;61.41</td>\n",
       "      <td>1824.28</td>\n",
       "      <td>bizum</td>\n",
       "      <td>Recomendación de uso #C-520</td>\n",
       "      <td>NaN</td>\n",
       "    </tr>\n",
       "    <tr>\n",
       "      <th>5</th>\n",
       "      <td>COMPRA</td>\n",
       "      <td>2025.09.08</td>\n",
       "      <td>Pedro López</td>\n",
       "      <td>Suministros Lopez</td>\n",
       "      <td>B23456789</td>\n",
       "      <td>C/ Mayor 12, Madrid</td>\n",
       "      <td>Aceite lubricante;Batería 12V;Taladro 500W</td>\n",
       "      <td>7;7;4</td>\n",
       "      <td>52,7;19,32;71.78</td>\n",
       "      <td>791.26</td>\n",
       "      <td>bizum</td>\n",
       "      <td>Etiqueta #C-754</td>\n",
       "      <td>Falta confirmación</td>\n",
       "    </tr>\n",
       "    <tr>\n",
       "      <th>6</th>\n",
       "      <td>VENTA</td>\n",
       "      <td>18-Apr-2025</td>\n",
       "      <td>Pedro López</td>\n",
       "      <td>Autorecambios Gil</td>\n",
       "      <td>56789012M</td>\n",
       "      <td>C/ Palmera 1, Cádiz</td>\n",
       "      <td>Cable 2m;Batería 12V;Llave inglesa;Kit reparación</td>\n",
       "      <td>1;3;10;5</td>\n",
       "      <td>52,11;67,38;77,1;18,17</td>\n",
       "      <td>1116.10</td>\n",
       "      <td>efectivo</td>\n",
       "      <td>Recomendación de uso #V-853</td>\n",
       "      <td>Garantía extendida</td>\n",
       "    </tr>\n",
       "    <tr>\n",
       "      <th>7</th>\n",
       "      <td>COMPRA</td>\n",
       "      <td>20-Aug-2025</td>\n",
       "      <td>Ana García</td>\n",
       "      <td>TecnoParts S.L.</td>\n",
       "      <td>B99887766</td>\n",
       "      <td>Pol. Ind. Norte, Valencia</td>\n",
       "      <td>Llave inglesa;Filtro aire</td>\n",
       "      <td>3;7</td>\n",
       "      <td>66,58;13,11</td>\n",
       "      <td>347.41</td>\n",
       "      <td>transferencia</td>\n",
       "      <td>Albarán #C-183</td>\n",
       "      <td>Falta confirmación</td>\n",
       "    </tr>\n",
       "  </tbody>\n",
       "</table>\n",
       "</div>"
      ],
      "text/plain": [
       "  TipoRegistro        Fecha       Empleado       Cliente_Proveedor        NIF  \\\n",
       "0       COMPRA   17/08/2025  Javier Torres       Materiales Centro  B33445522   \n",
       "1        VENTA  05-May-2025     Ana García              MotoRepara  87654321N   \n",
       "2       COMPRA   19/03/2025    Pedro López  Distribuciones Almería  S55667788   \n",
       "3        VENTA   2025-05-16     Ana García               AutoQuick  88990011T   \n",
       "4       COMPRA   06/01/2025    Pedro López       Suministros Lopez  B23456789   \n",
       "5       COMPRA   2025.09.08    Pedro López       Suministros Lopez  B23456789   \n",
       "6        VENTA  18-Apr-2025    Pedro López       Autorecambios Gil  56789012M   \n",
       "7       COMPRA  20-Aug-2025     Ana García         TecnoParts S.L.  B99887766   \n",
       "\n",
       "                      Direccion  \\\n",
       "0         C/ Serrano 14, Madrid   \n",
       "1         C/ Montaña 4, Granada   \n",
       "2  Av. Mediterráneo 23, Almería   \n",
       "3           C/ Toledo 5, Toledo   \n",
       "4           C/ Mayor 12, Madrid   \n",
       "5           C/ Mayor 12, Madrid   \n",
       "6           C/ Palmera 1, Cádiz   \n",
       "7     Pol. Ind. Norte, Valencia   \n",
       "\n",
       "                                           Productos Cantidades  \\\n",
       "0                                        Batería 12V          8   \n",
       "1             Cable 2m;Aceite lubricante;Filtro aire      4;8;8   \n",
       "2                         Aceite lubricante;Cable 2m        4;5   \n",
       "3  Compresor portátil;Aceite lubricante;Taladro 500W      9;8;7   \n",
       "4  Llave inglesa;Compresor portátil;Batería 12V;T...   10;9;7;9   \n",
       "5         Aceite lubricante;Batería 12V;Taladro 500W      7;7;4   \n",
       "6  Cable 2m;Batería 12V;Llave inglesa;Kit reparación   1;3;10;5   \n",
       "7                          Llave inglesa;Filtro aire        3;7   \n",
       "\n",
       "                   Precios    Total      MedioPago  \\\n",
       "0                    61.21   489.68       efectivo   \n",
       "1         32.22;4,21;62,28   660.80          bizum   \n",
       "2               36,32;3.98   165.18        tarjeta   \n",
       "3         3.37;54.08;59,21   877.44       efectivo   \n",
       "4  31.24;61.21;52,64;61.41  1824.28          bizum   \n",
       "5         52,7;19,32;71.78   791.26          bizum   \n",
       "6   52,11;67,38;77,1;18,17  1116.10       efectivo   \n",
       "7              66,58;13,11   347.41  transferencia   \n",
       "\n",
       "                     Documento       Observaciones  \n",
       "0              Etiqueta #C-801  Falta confirmación  \n",
       "1              Garantía #V-516      Pendiente pago  \n",
       "2               Albarán #C-555  Falta confirmación  \n",
       "3              Garantía #V-888  Falta confirmación  \n",
       "4  Recomendación de uso #C-520                 NaN  \n",
       "5              Etiqueta #C-754  Falta confirmación  \n",
       "6  Recomendación de uso #V-853  Garantía extendida  \n",
       "7               Albarán #C-183  Falta confirmación  "
      ]
     },
     "execution_count": 13,
     "metadata": {},
     "output_type": "execute_result"
    }
   ],
   "source": [
    "df.head(8)"
   ]
  },
  {
   "cell_type": "code",
   "execution_count": 14,
   "metadata": {
    "colab": {
     "base_uri": "https://localhost:8080/"
    },
    "id": "okhMn_9lVlwF",
    "outputId": "736be538-e434-4bc1-d39e-e4811428ce89"
   },
   "outputs": [
    {
     "name": "stdout",
     "output_type": "stream",
     "text": [
      "<class 'pandas.core.frame.DataFrame'>\n",
      "RangeIndex: 200 entries, 0 to 199\n",
      "Data columns (total 13 columns):\n",
      " #   Column             Non-Null Count  Dtype  \n",
      "---  ------             --------------  -----  \n",
      " 0   TipoRegistro       200 non-null    object \n",
      " 1   Fecha              200 non-null    object \n",
      " 2   Empleado           200 non-null    object \n",
      " 3   Cliente_Proveedor  200 non-null    object \n",
      " 4   NIF                200 non-null    object \n",
      " 5   Direccion          200 non-null    object \n",
      " 6   Productos          200 non-null    object \n",
      " 7   Cantidades         200 non-null    object \n",
      " 8   Precios            200 non-null    object \n",
      " 9   Total              181 non-null    float64\n",
      " 10  MedioPago          200 non-null    object \n",
      " 11  Documento          200 non-null    object \n",
      " 12  Observaciones      149 non-null    object \n",
      "dtypes: float64(1), object(12)\n",
      "memory usage: 20.4+ KB\n"
     ]
    }
   ],
   "source": [
    "df.info()"
   ]
  },
  {
   "cell_type": "code",
   "execution_count": 15,
   "metadata": {
    "colab": {
     "base_uri": "https://localhost:8080/",
     "height": 490
    },
    "id": "xFX2I80BYjxO",
    "outputId": "dcde8cdb-c648-4268-9bc9-e77b26b0588a"
   },
   "outputs": [
    {
     "data": {
      "text/plain": [
       "Documento\n",
       "Garantía #C-919                2\n",
       "Garantía #V-516                1\n",
       "Etiqueta #C-801                1\n",
       "Garantía #V-888                1\n",
       "Recomendación de uso #C-520    1\n",
       "                              ..\n",
       "Albarán #C-369                 1\n",
       "Recomendación de uso #C-574    1\n",
       "Albarán #C-897                 1\n",
       "Garantía #C-381                1\n",
       "Albarán #V-390                 1\n",
       "Name: count, Length: 199, dtype: int64"
      ]
     },
     "execution_count": 15,
     "metadata": {},
     "output_type": "execute_result"
    }
   ],
   "source": [
    "df['Documento'].value_counts()"
   ]
  },
  {
   "cell_type": "code",
   "execution_count": 17,
   "metadata": {
    "id": "I0J_apZ-Zg6F"
   },
   "outputs": [],
   "source": [
    "# delete all duplicate values\n",
    "df = df.drop_duplicates('Documento')"
   ]
  }
 ],
 "metadata": {
  "colab": {
   "provenance": []
  },
  "kernelspec": {
   "display_name": "Python 3 (ipykernel)",
   "language": "python",
   "name": "python3"
  },
  "language_info": {
   "codemirror_mode": {
    "name": "ipython",
    "version": 3
   },
   "file_extension": ".py",
   "mimetype": "text/x-python",
   "name": "python",
   "nbconvert_exporter": "python",
   "pygments_lexer": "ipython3",
   "version": "3.10.12"
  }
 },
 "nbformat": 4,
 "nbformat_minor": 4
}
