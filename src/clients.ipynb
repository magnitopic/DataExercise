{
 "cells": [
  {
   "cell_type": "markdown",
   "id": "37e2c416-838b-4d0c-a953-151a78895da7",
   "metadata": {},
   "source": [
    "# ClientProvider table"
   ]
  },
  {
   "cell_type": "code",
   "execution_count": 4,
   "id": "3f4d6866-de55-4301-abf3-04e64277ab17",
   "metadata": {},
   "outputs": [],
   "source": [
    "import pandas as pd\n",
    "import numpy as np\n",
    "df = pd.read_csv(\"../data/inital_dataset.csv\")"
   ]
  },
  {
   "cell_type": "code",
   "execution_count": 5,
   "id": "32e2d3dc-8940-4e0d-a9dd-fe60a731d263",
   "metadata": {},
   "outputs": [
    {
     "name": "stdout",
     "output_type": "stream",
     "text": [
      "nº clients:  26\n"
     ]
    },
    {
     "data": {
      "text/html": [
       "<div>\n",
       "<style scoped>\n",
       "    .dataframe tbody tr th:only-of-type {\n",
       "        vertical-align: middle;\n",
       "    }\n",
       "\n",
       "    .dataframe tbody tr th {\n",
       "        vertical-align: top;\n",
       "    }\n",
       "\n",
       "    .dataframe thead th {\n",
       "        text-align: right;\n",
       "    }\n",
       "</style>\n",
       "<table border=\"1\" class=\"dataframe\">\n",
       "  <thead>\n",
       "    <tr style=\"text-align: right;\">\n",
       "      <th></th>\n",
       "      <th>NIF</th>\n",
       "      <th>Name</th>\n",
       "      <th>Address</th>\n",
       "    </tr>\n",
       "  </thead>\n",
       "  <tbody>\n",
       "    <tr>\n",
       "      <th>0</th>\n",
       "      <td>B33445522</td>\n",
       "      <td>Materiales Centro</td>\n",
       "      <td>C/ Serrano 14, Madrid</td>\n",
       "    </tr>\n",
       "    <tr>\n",
       "      <th>1</th>\n",
       "      <td>87654321N</td>\n",
       "      <td>MotoRepara</td>\n",
       "      <td>C/ Montaña 4, Granada</td>\n",
       "    </tr>\n",
       "    <tr>\n",
       "      <th>2</th>\n",
       "      <td>S55667788</td>\n",
       "      <td>Distribuciones Almería</td>\n",
       "      <td>Av. Mediterráneo 23, Almería</td>\n",
       "    </tr>\n",
       "    <tr>\n",
       "      <th>3</th>\n",
       "      <td>88990011T</td>\n",
       "      <td>AutoQuick</td>\n",
       "      <td>C/ Toledo 5, Toledo</td>\n",
       "    </tr>\n",
       "    <tr>\n",
       "      <th>4</th>\n",
       "      <td>B23456789</td>\n",
       "      <td>Suministros Lopez</td>\n",
       "      <td>C/ Mayor 12, Madrid</td>\n",
       "    </tr>\n",
       "    <tr>\n",
       "      <th>5</th>\n",
       "      <td>56789012M</td>\n",
       "      <td>Autorecambios Gil</td>\n",
       "      <td>C/ Palmera 1, Cádiz</td>\n",
       "    </tr>\n",
       "    <tr>\n",
       "      <th>6</th>\n",
       "      <td>B99887766</td>\n",
       "      <td>TecnoParts S.L.</td>\n",
       "      <td>Pol. Ind. Norte, Valencia</td>\n",
       "    </tr>\n",
       "    <tr>\n",
       "      <th>7</th>\n",
       "      <td>55667788W</td>\n",
       "      <td>Motorline</td>\n",
       "      <td>C/ Castilla 22, Madrid</td>\n",
       "    </tr>\n",
       "  </tbody>\n",
       "</table>\n",
       "</div>"
      ],
      "text/plain": [
       "         NIF                    Name                       Address\n",
       "0  B33445522       Materiales Centro         C/ Serrano 14, Madrid\n",
       "1  87654321N              MotoRepara         C/ Montaña 4, Granada\n",
       "2  S55667788  Distribuciones Almería  Av. Mediterráneo 23, Almería\n",
       "3  88990011T               AutoQuick           C/ Toledo 5, Toledo\n",
       "4  B23456789       Suministros Lopez           C/ Mayor 12, Madrid\n",
       "5  56789012M       Autorecambios Gil           C/ Palmera 1, Cádiz\n",
       "6  B99887766         TecnoParts S.L.     Pol. Ind. Norte, Valencia\n",
       "7  55667788W               Motorline        C/ Castilla 22, Madrid"
      ]
     },
     "execution_count": 5,
     "metadata": {},
     "output_type": "execute_result"
    }
   ],
   "source": [
    "clients = pd.DataFrame(df[['NIF', 'Cliente_Proveedor', 'Direccion']])\n",
    "clients = clients.drop_duplicates(subset='NIF', keep='first')\n",
    "clients = clients.reset_index(drop=True)\n",
    "clients.columns = ['NIF', 'Name', 'Address']\n",
    "print(\"nº clients: \", clients.shape[0])\n",
    "clients.head(8)"
   ]
  },
  {
   "cell_type": "code",
   "execution_count": 6,
   "id": "a602b503-a2fe-47c1-be63-6e8ddc626390",
   "metadata": {},
   "outputs": [],
   "source": [
    "clients.to_csv('../exports/clients.csv', index=False)"
   ]
  }
 ],
 "metadata": {
  "kernelspec": {
   "display_name": "Python 3 (ipykernel)",
   "language": "python",
   "name": "python3"
  },
  "language_info": {
   "codemirror_mode": {
    "name": "ipython",
    "version": 3
   },
   "file_extension": ".py",
   "mimetype": "text/x-python",
   "name": "python",
   "nbconvert_exporter": "python",
   "pygments_lexer": "ipython3",
   "version": "3.10.12"
  }
 },
 "nbformat": 4,
 "nbformat_minor": 5
}
